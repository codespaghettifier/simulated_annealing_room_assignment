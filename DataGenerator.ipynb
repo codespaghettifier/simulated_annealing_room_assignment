{
 "cells": [
  {
   "attachments": {},
   "cell_type": "markdown",
   "metadata": {},
   "source": [
    "# Test data generator"
   ]
  },
  {
   "cell_type": "code",
   "execution_count": 2,
   "metadata": {},
   "outputs": [],
   "source": [
    "\n",
    "num_people = 10\n",
    "path = 'MatrixCost.dat'\n"
   ]
  },
  {
   "cell_type": "code",
   "execution_count": 51,
   "metadata": {},
   "outputs": [
    {
     "name": "stdout",
     "output_type": "stream",
     "text": [
      "[ 0 70 97 43 50 79 72 12 15 61]\n",
      "[31  0 28 38 66 61 62 86  3  1]\n",
      "[88 93  0 43 65 98  6 85 86 58]\n",
      "[59 96 80  0 10 28 27 37 30 39]\n",
      "[63 76 55 99  0 38 16 57 69  7]\n",
      "[27 36 27 25 61  0 46 29 70 22]\n",
      "[34 78 16  9 65 41  0 35 83 17]\n",
      "[98 12 21  3 92 86 21  0 71 74]\n",
      "[78 41 40 32 31 21 24 89  0 41]\n",
      "[89 89 83 64 50 60 67 97 46  0]\n"
     ]
    }
   ],
   "source": [
    "\n",
    "import numpy as np\n",
    "\n",
    "data = np.random.randint(0, 100, size=(num_people, num_people))\n",
    "np.fill_diagonal(data, 0)\n",
    "\n",
    "for row in data:\n",
    "    print(row)"
   ]
  },
  {
   "cell_type": "code",
   "execution_count": 53,
   "metadata": {},
   "outputs": [],
   "source": [
    "with open('MatrixCost.dat', 'w') as f:\n",
    "    for row in data:\n",
    "        f.write(' '.join(map(str, row)) + '\\n')"
   ]
  }
 ],
 "metadata": {
  "kernelspec": {
   "display_name": "Python 3",
   "language": "python",
   "name": "python3"
  },
  "language_info": {
   "codemirror_mode": {
    "name": "ipython",
    "version": 3
   },
   "file_extension": ".py",
   "mimetype": "text/x-python",
   "name": "python",
   "nbconvert_exporter": "python",
   "pygments_lexer": "ipython3",
   "version": "3.10.10"
  },
  "orig_nbformat": 4
 },
 "nbformat": 4,
 "nbformat_minor": 2
}
