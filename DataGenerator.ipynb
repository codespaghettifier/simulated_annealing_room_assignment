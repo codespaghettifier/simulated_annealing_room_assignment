{
 "cells": [
  {
   "attachments": {},
   "cell_type": "markdown",
   "metadata": {},
   "source": [
    "# Test data generator"
   ]
  },
  {
   "cell_type": "code",
   "execution_count": 22,
   "metadata": {},
   "outputs": [
    {
     "name": "stdout",
     "output_type": "stream",
     "text": [
      "['Laura Taylor', 'Carlos Smith', 'Cassie Baxter', 'David Schneider', 'Haley Mcdonald', 'Megan Norris', 'Bobby Porter', 'Ian Taylor', 'Rebecca Young', 'Mrs. Pamela Johnson']\n"
     ]
    }
   ],
   "source": [
    "# pip install faker\n",
    "from faker import Faker\n",
    "\n",
    "num_people = 10\n",
    "path = 'testData10people.json'\n",
    "\n",
    "nameGenerator = Faker()\n",
    "names = [nameGenerator.name() for _ in range(num_people)]\n",
    "print(names)"
   ]
  },
  {
   "cell_type": "code",
   "execution_count": 21,
   "metadata": {},
   "outputs": [
    {
     "name": "stdout",
     "output_type": "stream",
     "text": [
      "{'name': 'Kevin Silva', 'id': 1, 'cost': [63, 0, 30, 60, 58, 20, 76, 62, 59, 18, 34]}\n",
      "{'name': 'Keith Stewart', 'id': 2, 'cost': [11, 30, 0, 82, 1, 7, 96, 31, 25, 21, 65]}\n",
      "{'name': 'Kayla Calderon', 'id': 3, 'cost': [88, 60, 82, 0, 42, 83, 45, 57, 74, 13, 70]}\n",
      "{'name': 'Kimberly Riddle', 'id': 4, 'cost': [4, 58, 1, 42, 0, 97, 9, 46, 63, 56, 30]}\n",
      "{'name': 'Jimmy Short', 'id': 5, 'cost': [97, 20, 7, 83, 97, 0, 62, 64, 91, 78, 44]}\n",
      "{'name': 'Ryan Campos', 'id': 6, 'cost': [77, 76, 96, 45, 9, 62, 0, 3, 15, 72, 31]}\n",
      "{'name': 'Lori Smith', 'id': 7, 'cost': [28, 62, 31, 57, 46, 64, 3, 0, 81, 100, 49]}\n",
      "{'name': 'Christian Wall', 'id': 8, 'cost': [55, 59, 25, 74, 63, 91, 15, 81, 0, 38, 96]}\n",
      "{'name': 'Andrew Davis', 'id': 9, 'cost': [76, 18, 21, 13, 56, 78, 72, 100, 38, 0, 35]}\n",
      "{'name': 'Andrew Friedman', 'id': 10, 'cost': [68, 34, 65, 70, 30, 44, 31, 49, 96, 35, 0]}\n"
     ]
    }
   ],
   "source": [
    "import random\n",
    "\n",
    "people = []\n",
    "for i in range(1, num_people + 1):\n",
    "    cost = [random.randint(0, 100)] + [people[j]['cost'][i] if j < i - 1 else 0 if j == i - 1 else random.randint(0, 100) for j in range(num_people)]\n",
    "    person = {\n",
    "        'name': names[i - 1],\n",
    "        'id': i,\n",
    "        'cost': cost\n",
    "    }\n",
    "    people.append(person)\n",
    "\n",
    "for person in people:\n",
    "    print(person)"
   ]
  },
  {
   "cell_type": "code",
   "execution_count": 23,
   "metadata": {},
   "outputs": [],
   "source": [
    "import json\n",
    "\n",
    "with open(path, 'w') as file:\n",
    "    json.dump(people, file)"
   ]
  },
  {
   "cell_type": "code",
   "execution_count": null,
   "metadata": {},
   "outputs": [],
   "source": []
  }
 ],
 "metadata": {
  "kernelspec": {
   "display_name": "Python 3",
   "language": "python",
   "name": "python3"
  },
  "language_info": {
   "codemirror_mode": {
    "name": "ipython",
    "version": 3
   },
   "file_extension": ".py",
   "mimetype": "text/x-python",
   "name": "python",
   "nbconvert_exporter": "python",
   "pygments_lexer": "ipython3",
   "version": "3.8.10"
  },
  "orig_nbformat": 4
 },
 "nbformat": 4,
 "nbformat_minor": 2
}
